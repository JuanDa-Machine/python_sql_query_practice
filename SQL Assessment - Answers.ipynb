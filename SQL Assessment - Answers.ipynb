{
 "cells": [
  {
   "cell_type": "markdown",
   "metadata": {},
   "source": [
    "# SQL ASSESSMENT\n",
    "Test for the Senior Data Analyst Position at Publicis Group <br />Publicis Global Delivery<br /><br />By: JD CEBALLOS SANCHEZ "
   ]
  },
  {
   "cell_type": "markdown",
   "metadata": {},
   "source": [
    "## Libraries\n",
    "Importing Libraries for developing a `Python-SQL` Solution"
   ]
  },
  {
   "cell_type": "code",
   "execution_count": 1,
   "metadata": {},
   "outputs": [],
   "source": [
    "import pandas as pd, sqlite3"
   ]
  },
  {
   "cell_type": "markdown",
   "metadata": {},
   "source": [
    "## Tables\n",
    "Since the database containing the tables does not yet exist, they can be created using the following script"
   ]
  },
  {
   "cell_type": "code",
   "execution_count": 6,
   "metadata": {},
   "outputs": [],
   "source": [
    "conn = sqlite3.connect('sqlAssessment.db')\n",
    "cursor = conn.cursor()\n",
    "\n",
    "employeeDetails =  '''\n",
    "    CREATE TABLE employeeDetails (\n",
    "    EmplId INTEGER PRIMARY KEY,\n",
    "    FullName TEXT,\n",
    "    ManagerId INTEGER,\n",
    "    DateOfJoining DATE\n",
    "    )\n",
    "    '''\n",
    "\n",
    "employeeSalary =  '''\n",
    "    CREATE TABLE employeeSalary (\n",
    "    EmplId INTEGER PRIMARY KEY,\n",
    "    Project TEXT,\n",
    "    Salary INTEGER\n",
    "    )\n",
    "    '''\n",
    "\n",
    "cursor.execute(employeeDetails)\n",
    "cursor.execute(employeeSalary)\n",
    "\n",
    "conn.commit()\n",
    "conn.close()"
   ]
  },
  {
   "cell_type": "code",
   "execution_count": 9,
   "metadata": {},
   "outputs": [],
   "source": [
    "conn = sqlite3.connect('sqlAssessment.db')\n",
    "cursor = conn.cursor()"
   ]
  },
  {
   "cell_type": "code",
   "execution_count": 13,
   "metadata": {},
   "outputs": [],
   "source": [
    "values_employeeDetails = '''\n",
    "    INSERT INTO employeeDetails (EmplId, FullName, ManagerId, DateOfJoining) VALUES\n",
    "    (121, 'John Snow', 321, '01/31/2014'),\n",
    "    (321, 'Walter White', 986, '01/30/2015'),\n",
    "    (421, 'Kuldeep', 876, '27/11/2016')\n",
    "'''\n",
    "\n",
    "values_employeeSalary = '''\n",
    "    INSERT INTO employeeSalary (EmplId, Project, Salary) VALUES\n",
    "    (121, 'P1', 8000),\n",
    "    (321, 'P2', 1000),\n",
    "    (421, 'P1', 12000)\n",
    "'''\n",
    "\n",
    "cursor.execute(values_employeeDetails)\n",
    "cursor.execute(values_employeeSalary)\n",
    "\n",
    "conn.commit()\n",
    "conn.close()"
   ]
  },
  {
   "cell_type": "markdown",
   "metadata": {},
   "source": [
    "## Retrieving data"
   ]
  },
  {
   "cell_type": "code",
   "execution_count": 42,
   "metadata": {},
   "outputs": [
    {
     "data": {
      "text/plain": [
       "<sqlite3.Cursor at 0x1507b010ac0>"
      ]
     },
     "execution_count": 42,
     "metadata": {},
     "output_type": "execute_result"
    }
   ],
   "source": [
    "conn = sqlite3.connect('sqlAssessment.db')\n",
    "cursor = conn.cursor()\n"
   ]
  },
  {
   "cell_type": "code",
   "execution_count": 45,
   "metadata": {},
   "outputs": [
    {
     "data": {
      "text/plain": [
       "[(121, 'John Snow', 321, '01/31/2014'),\n",
       " (321, 'Walter White', 986, '01/30/2015'),\n",
       " (421, 'Kuldeep', 876, '27/11/2016')]"
      ]
     },
     "execution_count": 45,
     "metadata": {},
     "output_type": "execute_result"
    }
   ],
   "source": [
    "#testing\n",
    "query_test1 = 'SELECT * FROM employeeDetails'\n",
    "cursor.execute(query_test1)\n",
    "cursor.fetchall()"
   ]
  },
  {
   "cell_type": "code",
   "execution_count": 46,
   "metadata": {},
   "outputs": [
    {
     "data": {
      "text/plain": [
       "[(121, 'P1', 8000), (321, 'P2', 1000), (421, 'P1', 12000)]"
      ]
     },
     "execution_count": 46,
     "metadata": {},
     "output_type": "execute_result"
    }
   ],
   "source": [
    "#testing\n",
    "query_test2 = 'SELECT * FROM employeeSalary'\n",
    "cursor.execute(query_test2)\n",
    "cursor.fetchall()"
   ]
  },
  {
   "cell_type": "markdown",
   "metadata": {},
   "source": [
    "### 1. Write a SQL query to fetch the count of employees working in project ‘P1’:"
   ]
  },
  {
   "cell_type": "code",
   "execution_count": 77,
   "metadata": {},
   "outputs": [
    {
     "name": "stdout",
     "output_type": "stream",
     "text": [
      "(2,)\n"
     ]
    }
   ],
   "source": [
    "count_of_employees_p1 = ''' \n",
    "               SELECT COUNT(employeeDetails.EmplId) as count_of_employees_p1\n",
    "               FROM employeeDetails \n",
    "               INNER JOIN employeeSalary\n",
    "               ON employeeSalary.EmplId = employeeDetails.EmplId\n",
    "               WHERE employeeSalary.Project = 'P1'\n",
    "               '''\n",
    "cursor.execute(count_of_employees_p1)\n",
    "count_of_employees_p1_result = cursor.fetchone()\n",
    "\n",
    "print(count_of_employees_p1_result)"
   ]
  },
  {
   "cell_type": "markdown",
   "metadata": {},
   "source": [
    "### 2. Write a SQL query to fetch project-wise count of employees sorted by project’s count in descending order:"
   ]
  },
  {
   "cell_type": "code",
   "execution_count": 78,
   "metadata": {},
   "outputs": [
    {
     "name": "stdout",
     "output_type": "stream",
     "text": [
      "[('P1', 2), ('P2', 1)]\n"
     ]
    }
   ],
   "source": [
    "count_of_employees_pwise = ''' \n",
    "               SELECT Project, COUNT(DISTINCT employeeDetails.EmplId) as count_of_employees_pwise\n",
    "               FROM employeeDetails\n",
    "               INNER JOIN employeeSalary\n",
    "               ON employeeSalary.EmplId = employeeDetails.EmplId\n",
    "               GROUP BY 1\n",
    "               '''\n",
    "\n",
    "\n",
    "cursor.execute(count_of_employees_pwise)\n",
    "count_of_employees_pwise_result = cursor.fetchall()\n",
    "\n",
    "print(count_of_employees_pwise_result)"
   ]
  },
  {
   "cell_type": "markdown",
   "metadata": {},
   "source": [
    "### 3. Write a SQL query to fetch employee names having a salary greater than or equal to 5000 and less than or equal 10000:"
   ]
  },
  {
   "cell_type": "code",
   "execution_count": 90,
   "metadata": {},
   "outputs": [
    {
     "name": "stdout",
     "output_type": "stream",
     "text": [
      "[('John Snow', 8000)]\n"
     ]
    }
   ],
   "source": [
    "employees_salary_5000_10000 = ''' \n",
    "               SELECT employeeDetails.FullName, employeeSalary.Salary\n",
    "               FROM employeeDetails\n",
    "               INNER JOIN employeeSalary\n",
    "               ON employeeSalary.EmplId = employeeDetails.EmplId\n",
    "               WHERE employeeSalary.Salary >= '5000' AND employeeSalary.Salary<= '10000'               \n",
    "               '''\n",
    "\n",
    "cursor.execute(employees_salary_5000_10000)\n",
    "employees_salary_5000_10000_result = cursor.fetchall()\n",
    "\n",
    "print(employees_salary_5000_10000_result)"
   ]
  },
  {
   "cell_type": "markdown",
   "metadata": {},
   "source": [
    "### 4. Write a query to fetch employee names and salary records. Return employee details even if the salary record is not present for the employee:"
   ]
  },
  {
   "cell_type": "code",
   "execution_count": 106,
   "metadata": {},
   "outputs": [
    {
     "data": {
      "text/html": [
       "<div>\n",
       "<style scoped>\n",
       "    .dataframe tbody tr th:only-of-type {\n",
       "        vertical-align: middle;\n",
       "    }\n",
       "\n",
       "    .dataframe tbody tr th {\n",
       "        vertical-align: top;\n",
       "    }\n",
       "\n",
       "    .dataframe thead th {\n",
       "        text-align: right;\n",
       "    }\n",
       "</style>\n",
       "<table border=\"1\" class=\"dataframe\">\n",
       "  <thead>\n",
       "    <tr style=\"text-align: right;\">\n",
       "      <th></th>\n",
       "      <th>EmplId</th>\n",
       "      <th>FullName</th>\n",
       "      <th>ManagerId</th>\n",
       "      <th>DateOfJoining</th>\n",
       "      <th>EmplId</th>\n",
       "      <th>Project</th>\n",
       "      <th>Salary</th>\n",
       "    </tr>\n",
       "  </thead>\n",
       "  <tbody>\n",
       "    <tr>\n",
       "      <th>0</th>\n",
       "      <td>121</td>\n",
       "      <td>John Snow</td>\n",
       "      <td>321</td>\n",
       "      <td>01/31/2014</td>\n",
       "      <td>121</td>\n",
       "      <td>P1</td>\n",
       "      <td>8000</td>\n",
       "    </tr>\n",
       "    <tr>\n",
       "      <th>1</th>\n",
       "      <td>321</td>\n",
       "      <td>Walter White</td>\n",
       "      <td>986</td>\n",
       "      <td>01/30/2015</td>\n",
       "      <td>321</td>\n",
       "      <td>P2</td>\n",
       "      <td>1000</td>\n",
       "    </tr>\n",
       "    <tr>\n",
       "      <th>2</th>\n",
       "      <td>421</td>\n",
       "      <td>Kuldeep</td>\n",
       "      <td>876</td>\n",
       "      <td>27/11/2016</td>\n",
       "      <td>421</td>\n",
       "      <td>P1</td>\n",
       "      <td>12000</td>\n",
       "    </tr>\n",
       "  </tbody>\n",
       "</table>\n",
       "</div>"
      ],
      "text/plain": [
       "   EmplId      FullName  ManagerId DateOfJoining  EmplId Project  Salary\n",
       "0     121     John Snow        321    01/31/2014     121      P1    8000\n",
       "1     321  Walter White        986    01/30/2015     321      P2    1000\n",
       "2     421       Kuldeep        876    27/11/2016     421      P1   12000"
      ]
     },
     "execution_count": 106,
     "metadata": {},
     "output_type": "execute_result"
    }
   ],
   "source": [
    "employees_names_salaries = ''' \n",
    "               SELECT *\n",
    "               FROM employeeDetails\n",
    "               INNER JOIN employeeSalary\n",
    "               ON employeeSalary.EmplId = employeeDetails.EmplId            \n",
    "               '''\n",
    "\n",
    "cursor.execute(employees_names_salaries)\n",
    "employees_names_salaries_result = cursor.fetchall()\n",
    "\n",
    "df = pd.DataFrame(employees_names_salaries_result, columns = ['EmplId', 'FullName', 'ManagerId', 'DateOfJoining', 'EmplId', 'Project', 'Salary'])\n",
    "df"
   ]
  },
  {
   "cell_type": "markdown",
   "metadata": {},
   "source": [
    "### 5. Write a SQL query to create a new table with data and structure copied from another table:"
   ]
  },
  {
   "cell_type": "code",
   "execution_count": 126,
   "metadata": {},
   "outputs": [],
   "source": [
    "conn = sqlite3.connect('sqlAssessment.db')\n",
    "cursor = conn.cursor()\n",
    "\n",
    "employeeDetails_copy = '''\n",
    "    CREATE TABLE IF NOT EXISTS employeeDetails_copy AS\n",
    "    SELECT *\n",
    "    FROM employeeDetails\n",
    "    '''\n",
    "\n",
    "cursor.execute(employeeDetails_copy)\n",
    "\n",
    "conn.commit()\n",
    "conn.close()"
   ]
  },
  {
   "cell_type": "code",
   "execution_count": 136,
   "metadata": {},
   "outputs": [
    {
     "data": {
      "text/plain": [
       "[(121, 'John Snow', 321, '01/31/2014'),\n",
       " (321, 'Walter White', 986, '01/30/2015'),\n",
       " (421, 'Kuldeep', 876, '27/11/2016')]"
      ]
     },
     "execution_count": 136,
     "metadata": {},
     "output_type": "execute_result"
    }
   ],
   "source": [
    "conn = sqlite3.connect('sqlAssessment.db')\n",
    "cursor = conn.cursor()\n",
    "\n",
    "#testing\n",
    "query_test3 = 'SELECT * FROM employeeDetails_copy'\n",
    "cursor.execute(query_test1)\n",
    "cursor.fetchall()"
   ]
  },
  {
   "cell_type": "markdown",
   "metadata": {},
   "source": [
    "### 6. Write a SQL query to fetch all the Employees details from EmployeeDetails table who joined in the Year 2016:"
   ]
  },
  {
   "cell_type": "code",
   "execution_count": 160,
   "metadata": {},
   "outputs": [
    {
     "data": {
      "text/html": [
       "<div>\n",
       "<style scoped>\n",
       "    .dataframe tbody tr th:only-of-type {\n",
       "        vertical-align: middle;\n",
       "    }\n",
       "\n",
       "    .dataframe tbody tr th {\n",
       "        vertical-align: top;\n",
       "    }\n",
       "\n",
       "    .dataframe thead th {\n",
       "        text-align: right;\n",
       "    }\n",
       "</style>\n",
       "<table border=\"1\" class=\"dataframe\">\n",
       "  <thead>\n",
       "    <tr style=\"text-align: right;\">\n",
       "      <th></th>\n",
       "      <th>EmplId</th>\n",
       "      <th>FullName</th>\n",
       "      <th>ManagerId</th>\n",
       "      <th>DateOfJoining</th>\n",
       "      <th>EmplId</th>\n",
       "      <th>Project</th>\n",
       "      <th>Salary</th>\n",
       "    </tr>\n",
       "  </thead>\n",
       "  <tbody>\n",
       "    <tr>\n",
       "      <th>0</th>\n",
       "      <td>421</td>\n",
       "      <td>Kuldeep</td>\n",
       "      <td>876</td>\n",
       "      <td>27/11/2016</td>\n",
       "      <td>421</td>\n",
       "      <td>P1</td>\n",
       "      <td>12000</td>\n",
       "    </tr>\n",
       "  </tbody>\n",
       "</table>\n",
       "</div>"
      ],
      "text/plain": [
       "   EmplId FullName  ManagerId DateOfJoining  EmplId Project  Salary\n",
       "0     421  Kuldeep        876    27/11/2016     421      P1   12000"
      ]
     },
     "execution_count": 160,
     "metadata": {},
     "output_type": "execute_result"
    }
   ],
   "source": [
    "employees_detailes_joined_2016 = ''' \n",
    "               SELECT *\n",
    "               FROM employeeDetails\n",
    "               INNER JOIN employeeSalary\n",
    "               ON employeeSalary.EmplId = employeeDetails.EmplId\n",
    "               WHERE substr(employeeDetails.DateOfJoining, 7, 10) = '2016'\n",
    "               '''\n",
    "\n",
    "cursor.execute(employees_detailes_joined_2016)\n",
    "employees_detailes_joined_2016_result = cursor.fetchall()\n",
    "\n",
    "df = pd.DataFrame(employees_detailes_joined_2016_result, columns = ['EmplId', 'FullName', 'ManagerId', 'DateOfJoining', 'EmplId', 'Project', 'Salary'])\n",
    "df"
   ]
  },
  {
   "cell_type": "markdown",
   "metadata": {},
   "source": [
    "#### Notes for 6."
   ]
  },
  {
   "cell_type": "markdown",
   "metadata": {},
   "source": [
    "When creating the tables for handling dates, I initially faced challenges due to the lack of a dedicated `DATE` type in `SQLite`. I spent a considerable amount of time trying to filter records for the year '2016'. Fortunately, the small size of the database, consisting of only two tables, allowed me to manually verify the results.\n",
    "I eventually realized that I needed to use the `substr` function instead of `strftime` for date filtering. The underlying issue stemmed from using '/' instead of '-' as date separators when the tables were created. While both approaches can work, using '-' is more standardized and professional."
   ]
  }
 ],
 "metadata": {
  "kernelspec": {
   "display_name": "base",
   "language": "python",
   "name": "python3"
  },
  "language_info": {
   "codemirror_mode": {
    "name": "ipython",
    "version": 3
   },
   "file_extension": ".py",
   "mimetype": "text/x-python",
   "name": "python",
   "nbconvert_exporter": "python",
   "pygments_lexer": "ipython3",
   "version": "3.11.5"
  }
 },
 "nbformat": 4,
 "nbformat_minor": 2
}
